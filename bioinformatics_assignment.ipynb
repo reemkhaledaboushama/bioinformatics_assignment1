{
 "cells": [
  {
   "cell_type": "markdown",
   "id": "bc3c6251",
   "metadata": {},
   "source": [
    "<h2>Reem Khaled Elsayed Aboushama</h2>\n",
    "<h2>18Q9822</h2>\n",
    "<h3>Assignment -1 </h3>"
   ]
  },
  {
   "cell_type": "markdown",
   "id": "45d7cc67",
   "metadata": {},
   "source": [
    "<h1>Trace back for coin row</h1>"
   ]
  },
  {
   "cell_type": "code",
   "execution_count": 440,
   "id": "7deb9e6e",
   "metadata": {},
   "outputs": [],
   "source": [
    "def coin_row(coins_array):\n",
    "    f_array= [0, coins_array[0]]\n",
    "    \n",
    "    for i in range(2, len(coins_array)+1):\n",
    "        pick_up_coin= coins_array[i-1] + f_array[i-2] \n",
    "        print(f\"current coin: {coins_array[i-1]}\")\n",
    "        print(f\"current f-2: {f_array[i-2]}\")\n",
    "        \n",
    "        do_not_pick_up_coin= f_array[i-1]\n",
    "        \n",
    "        max_amount= max(pick_up_coin,do_not_pick_up_coin)\n",
    "        \n",
    "        \n",
    "        \n",
    "        f_array.append(max_amount)\n",
    "        \n",
    "        print(f\"pick_up_coin at iteration {i} ==> {pick_up_coin}\")\n",
    "        print(f\"do not pick_up_coin at iteration {i} ==> {do_not_pick_up_coin}\")\n",
    "        print(f\"max amoount chosen ---> {max_amount}\")\n",
    "        \n",
    "        print(f\"current coins_array --> {coins_array}\")\n",
    "        print(f\"current F_ARRAY --> {f_array}\")\n",
    "        \n",
    "        print(\"--------------------------------------------------------\")\n",
    "\n",
    "        \n",
    "    \n",
    "    return f_array, coins_array\n"
   ]
  },
  {
   "cell_type": "code",
   "execution_count": 441,
   "id": "f249cf3f",
   "metadata": {},
   "outputs": [
    {
     "name": "stdout",
     "output_type": "stream",
     "text": [
      "current coin: 5\n",
      "current f-2: 0\n",
      "pick_up_coin at iteration 2 ==> 5\n",
      "do not pick_up_coin at iteration 2 ==> 2\n",
      "max amoount chosen ---> 5\n",
      "current coins_array --> [2, 5, 10, 1, 4, 3]\n",
      "current F_ARRAY --> [0, 2, 5]\n",
      "--------------------------------------------------------\n",
      "current coin: 10\n",
      "current f-2: 2\n",
      "pick_up_coin at iteration 3 ==> 12\n",
      "do not pick_up_coin at iteration 3 ==> 5\n",
      "max amoount chosen ---> 12\n",
      "current coins_array --> [2, 5, 10, 1, 4, 3]\n",
      "current F_ARRAY --> [0, 2, 5, 12]\n",
      "--------------------------------------------------------\n",
      "current coin: 1\n",
      "current f-2: 5\n",
      "pick_up_coin at iteration 4 ==> 6\n",
      "do not pick_up_coin at iteration 4 ==> 12\n",
      "max amoount chosen ---> 12\n",
      "current coins_array --> [2, 5, 10, 1, 4, 3]\n",
      "current F_ARRAY --> [0, 2, 5, 12, 12]\n",
      "--------------------------------------------------------\n",
      "current coin: 4\n",
      "current f-2: 12\n",
      "pick_up_coin at iteration 5 ==> 16\n",
      "do not pick_up_coin at iteration 5 ==> 12\n",
      "max amoount chosen ---> 16\n",
      "current coins_array --> [2, 5, 10, 1, 4, 3]\n",
      "current F_ARRAY --> [0, 2, 5, 12, 12, 16]\n",
      "--------------------------------------------------------\n",
      "current coin: 3\n",
      "current f-2: 12\n",
      "pick_up_coin at iteration 6 ==> 15\n",
      "do not pick_up_coin at iteration 6 ==> 16\n",
      "max amoount chosen ---> 16\n",
      "current coins_array --> [2, 5, 10, 1, 4, 3]\n",
      "current F_ARRAY --> [0, 2, 5, 12, 12, 16, 16]\n",
      "--------------------------------------------------------\n"
     ]
    }
   ],
   "source": [
    "f_array, coins_array= coin_row([2,5,10,1,4,3])"
   ]
  },
  {
   "cell_type": "code",
   "execution_count": 434,
   "id": "982fd933",
   "metadata": {},
   "outputs": [],
   "source": [
    "def coin_row_trace_back(f_array, coins_array): \n",
    "    chosen_coins = []\n",
    "    last_coin = None\n",
    "    \n",
    "    for i in range(len(f_array) - 1, 0, -1):\n",
    "        if f_array[i] != f_array[i-1] and (not chosen_coins or coins_array[i] != chosen_coins[-1]):\n",
    "            coin = coins_array[i-1]\n",
    "            if coin != last_coin:\n",
    "                chosen_coins.append(coin)\n",
    "                last_coin = coin\n",
    "    chosen_coins.reverse()  # reverse the order to get the correct order\n",
    "    return chosen_coins\n"
   ]
  },
  {
   "cell_type": "code",
   "execution_count": 437,
   "id": "4bf76237",
   "metadata": {
    "scrolled": false
   },
   "outputs": [
    {
     "data": {
      "text/plain": [
       "[2, 10, 4]"
      ]
     },
     "execution_count": 437,
     "metadata": {},
     "output_type": "execute_result"
    }
   ],
   "source": [
    "coin_row_trace_back(f_array, coins_array)"
   ]
  },
  {
   "cell_type": "markdown",
   "id": "da13bf97",
   "metadata": {},
   "source": [
    "<h1>levenshtien distance using recursion</h1>"
   ]
  },
  {
   "cell_type": "code",
   "execution_count": null,
   "id": "3b8bc5a1",
   "metadata": {},
   "outputs": [],
   "source": []
  },
  {
   "cell_type": "code",
   "execution_count": null,
   "id": "f6bcdbcd",
   "metadata": {},
   "outputs": [],
   "source": []
  },
  {
   "cell_type": "code",
   "execution_count": null,
   "id": "389d66a5",
   "metadata": {},
   "outputs": [],
   "source": []
  },
  {
   "cell_type": "markdown",
   "id": "6b4b8dc5",
   "metadata": {},
   "source": [
    "<h1>Trace back for levenshtien distance</h1>"
   ]
  },
  {
   "cell_type": "code",
   "execution_count": null,
   "id": "e084f8c3",
   "metadata": {},
   "outputs": [],
   "source": []
  },
  {
   "cell_type": "code",
   "execution_count": null,
   "id": "f9dc04e5",
   "metadata": {},
   "outputs": [],
   "source": []
  },
  {
   "cell_type": "code",
   "execution_count": null,
   "id": "2ded6838",
   "metadata": {},
   "outputs": [],
   "source": []
  },
  {
   "cell_type": "markdown",
   "id": "425698e8",
   "metadata": {},
   "source": [
    "<h1>Solving LCS using recursion</h1>"
   ]
  },
  {
   "cell_type": "code",
   "execution_count": null,
   "id": "c48b0981",
   "metadata": {},
   "outputs": [],
   "source": []
  },
  {
   "cell_type": "code",
   "execution_count": null,
   "id": "4984104b",
   "metadata": {},
   "outputs": [],
   "source": []
  },
  {
   "cell_type": "code",
   "execution_count": null,
   "id": "d480bdb8",
   "metadata": {},
   "outputs": [],
   "source": []
  },
  {
   "cell_type": "markdown",
   "id": "e401439e",
   "metadata": {},
   "source": [
    "<h1>Trace back for LCS using dynamic programming</h1>"
   ]
  },
  {
   "cell_type": "code",
   "execution_count": null,
   "id": "bc7ffd6a",
   "metadata": {},
   "outputs": [],
   "source": []
  },
  {
   "cell_type": "code",
   "execution_count": null,
   "id": "e331f5d1",
   "metadata": {},
   "outputs": [],
   "source": []
  },
  {
   "cell_type": "code",
   "execution_count": null,
   "id": "d0a0e314",
   "metadata": {},
   "outputs": [],
   "source": []
  }
 ],
 "metadata": {
  "kernelspec": {
   "display_name": "Python 3 (ipykernel)",
   "language": "python",
   "name": "python3"
  },
  "language_info": {
   "codemirror_mode": {
    "name": "ipython",
    "version": 3
   },
   "file_extension": ".py",
   "mimetype": "text/x-python",
   "name": "python",
   "nbconvert_exporter": "python",
   "pygments_lexer": "ipython3",
   "version": "3.8.13"
  }
 },
 "nbformat": 4,
 "nbformat_minor": 5
}

{
 "cells": [
  {
   "cell_type": "markdown",
   "id": "bc3c6251",
   "metadata": {},
   "source": [
    "<h2>Reem Khaled Elsayed Aboushama</h2>\n",
    "<h2>18Q9822</h2>\n",
    "<h3>Assignment -1 </h3>"
   ]
  },
  {
   "cell_type": "markdown",
   "id": "fcd76240",
   "metadata": {},
   "source": [
    "<h1>Implementaton of coin row</h1>"
   ]
  },
  {
   "cell_type": "code",
   "execution_count": 40,
   "id": "7deb9e6e",
   "metadata": {},
   "outputs": [],
   "source": [
    "def coin_row(coins_array):\n",
    "    f_array= [0, coins_array[0]]\n",
    "    \n",
    "    for i in range(2, len(coins_array)+1):\n",
    "        pick_up_coin= coins_array[i-1] + f_array[i-2] \n",
    "        print(f\"current coin: {coins_array[i-1]}\")\n",
    "        print(f\"current f-2: {f_array[i-2]}\")\n",
    "        \n",
    "        do_not_pick_up_coin= f_array[i-1]\n",
    "        \n",
    "        max_amount= max(pick_up_coin,do_not_pick_up_coin)\n",
    "        \n",
    "        \n",
    "        \n",
    "        f_array.append(max_amount)\n",
    "        \n",
    "        print(f\"pick_up_coin at iteration {i} ==> {pick_up_coin}\")\n",
    "        print(f\"do not pick_up_coin at iteration {i} ==> {do_not_pick_up_coin}\")\n",
    "        print(f\"max amoount chosen ---> {max_amount}\")\n",
    "        \n",
    "        print(f\"current coins_array --> {coins_array}\")\n",
    "        print(f\"current F_ARRAY --> {f_array}\")\n",
    "        \n",
    "        print(\"--------------------------------------------------------\")\n",
    "\n",
    "        \n",
    "    \n",
    "    return f_array, coins_array, max_amount\n"
   ]
  },
  {
   "cell_type": "code",
   "execution_count": 41,
   "id": "aeb1bf44",
   "metadata": {
    "scrolled": true
   },
   "outputs": [
    {
     "name": "stdout",
     "output_type": "stream",
     "text": [
      "current coin: 1\n",
      "current f-2: 0\n",
      "pick_up_coin at iteration 2 ==> 1\n",
      "do not pick_up_coin at iteration 2 ==> 5\n",
      "max amoount chosen ---> 5\n",
      "current coins_array --> [5, 1, 2, 10, 6, 2]\n",
      "current F_ARRAY --> [0, 5, 5]\n",
      "--------------------------------------------------------\n",
      "current coin: 2\n",
      "current f-2: 5\n",
      "pick_up_coin at iteration 3 ==> 7\n",
      "do not pick_up_coin at iteration 3 ==> 5\n",
      "max amoount chosen ---> 7\n",
      "current coins_array --> [5, 1, 2, 10, 6, 2]\n",
      "current F_ARRAY --> [0, 5, 5, 7]\n",
      "--------------------------------------------------------\n",
      "current coin: 10\n",
      "current f-2: 5\n",
      "pick_up_coin at iteration 4 ==> 15\n",
      "do not pick_up_coin at iteration 4 ==> 7\n",
      "max amoount chosen ---> 15\n",
      "current coins_array --> [5, 1, 2, 10, 6, 2]\n",
      "current F_ARRAY --> [0, 5, 5, 7, 15]\n",
      "--------------------------------------------------------\n",
      "current coin: 6\n",
      "current f-2: 7\n",
      "pick_up_coin at iteration 5 ==> 13\n",
      "do not pick_up_coin at iteration 5 ==> 15\n",
      "max amoount chosen ---> 15\n",
      "current coins_array --> [5, 1, 2, 10, 6, 2]\n",
      "current F_ARRAY --> [0, 5, 5, 7, 15, 15]\n",
      "--------------------------------------------------------\n",
      "current coin: 2\n",
      "current f-2: 15\n",
      "pick_up_coin at iteration 6 ==> 17\n",
      "do not pick_up_coin at iteration 6 ==> 15\n",
      "max amoount chosen ---> 17\n",
      "current coins_array --> [5, 1, 2, 10, 6, 2]\n",
      "current F_ARRAY --> [0, 5, 5, 7, 15, 15, 17]\n",
      "--------------------------------------------------------\n"
     ]
    }
   ],
   "source": [
    "f_array1, coins_array1 , max_amount= coin_row([5,1,2,10,6,2])"
   ]
  },
  {
   "cell_type": "code",
   "execution_count": 42,
   "id": "f249cf3f",
   "metadata": {
    "scrolled": true
   },
   "outputs": [
    {
     "name": "stdout",
     "output_type": "stream",
     "text": [
      "current coin: 5\n",
      "current f-2: 0\n",
      "pick_up_coin at iteration 2 ==> 5\n",
      "do not pick_up_coin at iteration 2 ==> 2\n",
      "max amoount chosen ---> 5\n",
      "current coins_array --> [2, 5, 10, 1, 4, 3]\n",
      "current F_ARRAY --> [0, 2, 5]\n",
      "--------------------------------------------------------\n",
      "current coin: 10\n",
      "current f-2: 2\n",
      "pick_up_coin at iteration 3 ==> 12\n",
      "do not pick_up_coin at iteration 3 ==> 5\n",
      "max amoount chosen ---> 12\n",
      "current coins_array --> [2, 5, 10, 1, 4, 3]\n",
      "current F_ARRAY --> [0, 2, 5, 12]\n",
      "--------------------------------------------------------\n",
      "current coin: 1\n",
      "current f-2: 5\n",
      "pick_up_coin at iteration 4 ==> 6\n",
      "do not pick_up_coin at iteration 4 ==> 12\n",
      "max amoount chosen ---> 12\n",
      "current coins_array --> [2, 5, 10, 1, 4, 3]\n",
      "current F_ARRAY --> [0, 2, 5, 12, 12]\n",
      "--------------------------------------------------------\n",
      "current coin: 4\n",
      "current f-2: 12\n",
      "pick_up_coin at iteration 5 ==> 16\n",
      "do not pick_up_coin at iteration 5 ==> 12\n",
      "max amoount chosen ---> 16\n",
      "current coins_array --> [2, 5, 10, 1, 4, 3]\n",
      "current F_ARRAY --> [0, 2, 5, 12, 12, 16]\n",
      "--------------------------------------------------------\n",
      "current coin: 3\n",
      "current f-2: 12\n",
      "pick_up_coin at iteration 6 ==> 15\n",
      "do not pick_up_coin at iteration 6 ==> 16\n",
      "max amoount chosen ---> 16\n",
      "current coins_array --> [2, 5, 10, 1, 4, 3]\n",
      "current F_ARRAY --> [0, 2, 5, 12, 12, 16, 16]\n",
      "--------------------------------------------------------\n"
     ]
    }
   ],
   "source": [
    "f_array2, coins_array2, max_amount= coin_row([2,5,10,1,4,3])"
   ]
  },
  {
   "cell_type": "markdown",
   "id": "45d7cc67",
   "metadata": {},
   "source": [
    "<h1>Trace back for coin row</h1>"
   ]
  },
  {
   "cell_type": "code",
   "execution_count": 49,
   "id": "982fd933",
   "metadata": {},
   "outputs": [],
   "source": [
    "def coin_row_trace_back(f_array, coins_array, max_amount): \n",
    "    \n",
    "    chosen_coins_vals = []\n",
    "    chosen_coins_labels=[]\n",
    "    chosen_coins = {}\n",
    "\n",
    "    last_coin = None\n",
    "    \n",
    "    for i in range(len(f_array) - 1, 0, -1):\n",
    "        if f_array[i] != f_array[i-1] and (not chosen_coins_vals or coins_array[i] != chosen_coins_vals[-1]):\n",
    "            coin = coins_array[i-1]\n",
    "            if coin != last_coin:\n",
    "                chosen_coins_vals.append(coin)\n",
    "                chosen_coins_labels.append('C'+ str(i))\n",
    "                last_coin = coin\n",
    "                \n",
    "    #reverse the order to get the correct order\n",
    "    chosen_coins_vals.reverse() \n",
    "    chosen_coins_labels.reverse()\n",
    "    \n",
    "    for i in range(len(chosen_coins_labels)):\n",
    "        chosen_coins[chosen_coins_labels[i]] = chosen_coins_vals[i]\n",
    "        \n",
    "    print(f\"coins: {chosen_coins_labels} of values {chosen_coins_vals} give maximum amount of {max_amount}\")\n",
    "    \n",
    "    #return chosen_coins"
   ]
  },
  {
   "cell_type": "code",
   "execution_count": 50,
   "id": "87a182f3",
   "metadata": {},
   "outputs": [
    {
     "name": "stdout",
     "output_type": "stream",
     "text": [
      "coins: ['C1', 'C4', 'C6'] of values [5, 10, 2] give maximum amount of 16\n"
     ]
    }
   ],
   "source": [
    "coin_row_trace_back(f_array1, coins_array1, max_amount)"
   ]
  },
  {
   "cell_type": "code",
   "execution_count": 51,
   "id": "4bf76237",
   "metadata": {
    "scrolled": false
   },
   "outputs": [
    {
     "name": "stdout",
     "output_type": "stream",
     "text": [
      "coins: ['C1', 'C3', 'C5'] of values [2, 10, 4] give maximum amount of 16\n"
     ]
    }
   ],
   "source": [
    "coin_row_trace_back(f_array2, coins_array2, max_amount)"
   ]
  },
  {
   "cell_type": "markdown",
   "id": "da13bf97",
   "metadata": {},
   "source": [
    "<h1>levenshtien distance using recursion</h1>"
   ]
  },
  {
   "cell_type": "code",
   "execution_count": 188,
   "id": "3b8bc5a1",
   "metadata": {},
   "outputs": [],
   "source": [
    "def levenshtein_distance(string1, string2):\n",
    "    #base case\n",
    "    if len(string1) == 0: #this means that the difference between string 1 is the entirity of string 2\n",
    "        return len(string2)\n",
    "    else: \n",
    "        if len(string2) == 0: #same thing between string2 and string1\n",
    "            return len(string1)\n",
    "        else:\n",
    "            if string1[-1] == string2[-1]: #checking if the last item of the two strings are equal\n",
    "                cost = 0\n",
    "            else: \n",
    "                cost = 1\n",
    "                \n",
    "        deletion= levenshtein_distance(string1[:-1], string2) + 1 #deleting last character of string1\n",
    "        insertion= levenshtein_distance(string1, string2[:-1]) + 1  #insering a character to string1\n",
    "        substitution= levenshtein_distance(string1[:-1], string2[:-1]) + cost  #substituting last element of string1 with last elmt of str2 + cost of substitution\n",
    "        \n",
    "        #must consider all 3 operations, insertion, deletion, and substitution\n",
    "        minimum= min(deletion, insertion, substitution)\n",
    "        return minimum"
   ]
  },
  {
   "cell_type": "code",
   "execution_count": 133,
   "id": "f6bcdbcd",
   "metadata": {},
   "outputs": [
    {
     "data": {
      "text/plain": [
       "1"
      ]
     },
     "execution_count": 133,
     "metadata": {},
     "output_type": "execute_result"
    }
   ],
   "source": [
    "levenshtein_distance(\"bite\", \"kite\")"
   ]
  },
  {
   "cell_type": "code",
   "execution_count": 134,
   "id": "389d66a5",
   "metadata": {},
   "outputs": [
    {
     "data": {
      "text/plain": [
       "3"
      ]
     },
     "execution_count": 134,
     "metadata": {},
     "output_type": "execute_result"
    }
   ],
   "source": [
    "levenshtein_distance(\"kitten\", \"sitting\")"
   ]
  },
  {
   "cell_type": "markdown",
   "id": "6b4b8dc5",
   "metadata": {},
   "source": [
    "<h1>Trace back for levenshtien distance</h1>"
   ]
  },
  {
   "cell_type": "code",
   "execution_count": 181,
   "id": "e084f8c3",
   "metadata": {},
   "outputs": [],
   "source": [
    "def levenshtein_traceback(string1, string2):\n",
    "    if len(string1) == 0:\n",
    "        return [(\"insert in\" , \"string1\" , i, string2[i]) for i in range(len(string2))]\n",
    "    if len(string2) == 0:\n",
    "        return [(\"insert in\", \"string2\" , i) for i in range(len(string1))]\n",
    "        \n",
    "    \n",
    "    if string1[-1] == string2[-1]:\n",
    "        cost = 0\n",
    "    else:\n",
    "        cost = 1\n",
    "        \n",
    "    candidates = [\n",
    "        (levenshtein_distance(string1[:-1], string2) + 1, \"delete\", len(string1)-1),\n",
    "        (levenshtein_distance(string1, string2[:-1]) + 1, \"insert\", len(string1)),\n",
    "        (levenshtein_distance(string1[:-1], string2[:-1]) + cost, \"substitute\", len(string1)-1)\n",
    "        \n",
    "    ]\n",
    "    \n",
    "    min_distance, operation, pos = min(candidates, key=lambda x: x[0])\n",
    "    \n",
    "    if operation == \"delete\":\n",
    "        return levenshtein_traceback(string1[:-1], string2) + [(operation, pos)]\n",
    "    elif operation == \"insert\":\n",
    "        return levenshtein_traceback(string1, string2[:-1]) + [(operation, pos, string2[pos])]\n",
    "    else:\n",
    "        if cost == 1:\n",
    "            return levenshtein_traceback(string1[:-1], string2[:-1]) + [(operation, pos, string2[pos])]\n",
    "        else:\n",
    "            return levenshtein_traceback(string1[:-1], string2[:-1]) \n"
   ]
  },
  {
   "cell_type": "code",
   "execution_count": 186,
   "id": "f9dc04e5",
   "metadata": {},
   "outputs": [
    {
     "data": {
      "text/plain": [
       "[('substitute', 0, 'k')]"
      ]
     },
     "execution_count": 186,
     "metadata": {},
     "output_type": "execute_result"
    }
   ],
   "source": [
    "levenshtein_traceback(\"bite\", \"kite\")"
   ]
  },
  {
   "cell_type": "code",
   "execution_count": 187,
   "id": "81df75fe",
   "metadata": {},
   "outputs": [
    {
     "data": {
      "text/plain": [
       "[('substitute', 0, 's'), ('substitute', 4, 'i'), ('insert', 6, 'g')]"
      ]
     },
     "execution_count": 187,
     "metadata": {},
     "output_type": "execute_result"
    }
   ],
   "source": [
    "levenshtein_traceback(\"kitten\", \"sitting\")"
   ]
  },
  {
   "cell_type": "markdown",
   "id": "425698e8",
   "metadata": {},
   "source": [
    "<h1>Solving LCS using recursion</h1>"
   ]
  },
  {
   "cell_type": "code",
   "execution_count": 204,
   "id": "c48b0981",
   "metadata": {},
   "outputs": [],
   "source": [
    "def LCS_recursion(string1, string2):\n",
    "    \n",
    "    truncated_str1=string1[:-1] \n",
    "    truncated_str2= string2[:-1]\n",
    "    if len(string1) == 0 or len(string2) == 0: \n",
    "        return 0 #no common subsequence btwn both\n",
    "    else:\n",
    "        if string1[-1] == string2[-1]:\n",
    "            #check last item in string if they are equal, then call function recursively\n",
    "            return LCS_recursion(truncated_str1, truncated_str2) + 1 #call fn and pass strings - last character\n",
    "        else:\n",
    "            return max(LCS_recursion(truncated_str1, string2), LCS_recursion(string1, truncated_str2)) #find longest subsequence from either string1 truncated and string2, or string2 truncated and string1\n"
   ]
  },
  {
   "cell_type": "code",
   "execution_count": 205,
   "id": "4984104b",
   "metadata": {},
   "outputs": [
    {
     "data": {
      "text/plain": [
       "7"
      ]
     },
     "execution_count": 205,
     "metadata": {},
     "output_type": "execute_result"
    }
   ],
   "source": [
    "LCS_recursion(\"ATGACTATAA\", \"GACTAATA\")"
   ]
  },
  {
   "cell_type": "code",
   "execution_count": null,
   "id": "d480bdb8",
   "metadata": {},
   "outputs": [],
   "source": []
  },
  {
   "cell_type": "markdown",
   "id": "e401439e",
   "metadata": {},
   "source": [
    "<h1>Trace back for LCS using dynamic programming</h1>"
   ]
  },
  {
   "cell_type": "markdown",
   "id": "73e6b921",
   "metadata": {},
   "source": [
    "<H2>LCS using Dynamic programming</H2>"
   ]
  },
  {
   "cell_type": "code",
   "execution_count": 227,
   "id": "e331f5d1",
   "metadata": {},
   "outputs": [],
   "source": [
    "def LCS_dynamic_programming(string1, string2):\n",
    "    # Initialize the 2D array with zeros\n",
    "    string1_size = len(string1)\n",
    "    string2_size = len(string2)\n",
    "    LCS_matrix = [[0 for j in range(string2_size+1)] for i in range(string1_size+1)]\n",
    "\n",
    "    # Fill the 2D array using dynamic programming\n",
    "    for i in range(1, string1_size + 1): #rows\n",
    "        for j in range(1, string2_size + 1): #cols\n",
    "            if string1[i - 1] == string2[j - 1]:\n",
    "                LCS_matrix[i][j] = LCS_matrix[i - 1][j - 1] + 1\n",
    "            else:\n",
    "                LCS_matrix[i][j] = max(LCS_matrix[i - 1][j], LCS_matrix[i][j - 1])\n",
    "\n",
    "    # Return the length of the longest common subsequence\n",
    "    return LCS_matrix[string1_size][string2_size], LCS_matrix\n"
   ]
  },
  {
   "cell_type": "code",
   "execution_count": 313,
   "id": "d0a0e314",
   "metadata": {},
   "outputs": [],
   "source": [
    "LCS, LCS_matrix= LCS_dynamic_programming(\"TGACTAC\", \"ACTGATGC\")"
   ]
  },
  {
   "cell_type": "code",
   "execution_count": 314,
   "id": "7bec879d",
   "metadata": {},
   "outputs": [
    {
     "data": {
      "text/plain": [
       "5"
      ]
     },
     "execution_count": 314,
     "metadata": {},
     "output_type": "execute_result"
    }
   ],
   "source": [
    "LCS"
   ]
  },
  {
   "cell_type": "code",
   "execution_count": 315,
   "id": "8e98a1d2",
   "metadata": {},
   "outputs": [
    {
     "data": {
      "text/plain": [
       "[[0, 0, 0, 0, 0, 0, 0, 0, 0],\n",
       " [0, 0, 0, 1, 1, 1, 1, 1, 1],\n",
       " [0, 0, 0, 1, 2, 2, 2, 2, 2],\n",
       " [0, 1, 1, 1, 2, 3, 3, 3, 3],\n",
       " [0, 1, 2, 2, 2, 3, 3, 3, 4],\n",
       " [0, 1, 2, 3, 3, 3, 4, 4, 4],\n",
       " [0, 1, 2, 3, 3, 4, 4, 4, 4],\n",
       " [0, 1, 2, 3, 3, 4, 4, 4, 5]]"
      ]
     },
     "execution_count": 315,
     "metadata": {},
     "output_type": "execute_result"
    }
   ],
   "source": [
    "LCS_matrix"
   ]
  },
  {
   "cell_type": "markdown",
   "id": "f1f6299a",
   "metadata": {},
   "source": [
    "<H2>Trace back for LCS using Dynamic Programming<H2>"
   ]
  },
  {
   "cell_type": "code",
   "execution_count": 316,
   "id": "a9ff33ef",
   "metadata": {},
   "outputs": [],
   "source": [
    "def LCS_traceback(string1, string2, LCS_matrix):\n",
    "    string1_size = len(string1)\n",
    "    string2_size = len(string2)\n",
    "    LCS_strings = [\"\"]\n",
    "  \n",
    "    while string1_size > 0 and string2_size > 0:\n",
    "        if string1[string1_size-1] == string2[string2_size-1]:\n",
    "            for i in range(len(LCS_strings)):\n",
    "                LCS_strings[i] = string1[string1_size-1] + LCS_strings[i]\n",
    "            string1_size -= 1\n",
    "            string2_size -= 1\n",
    "        elif LCS_matrix[string1_size-1][string2_size-1] > LCS_matrix[string1_size-1][string2_size]:\n",
    "            string1_size= string1_size- 1\n",
    "        else:\n",
    "            string2_size= string2_size-1\n",
    "\n",
    "        # remove any LCSs that are shorter than the current longest\n",
    "        max_length = len(LCS_strings[0])\n",
    "        for i in range(1, len(LCS_strings)):\n",
    "            if len(LCS_strings[i]) < max_length:\n",
    "                del LCS_strings[i:]\n",
    "                break\n",
    "            elif len(LCS_strings[i]) > max_length:\n",
    "                max_length = len(LCS_strings[i])\n",
    "\n",
    "    return LCS_strings\n",
    "\n"
   ]
  },
  {
   "cell_type": "code",
   "execution_count": 318,
   "id": "7047322e",
   "metadata": {},
   "outputs": [
    {
     "data": {
      "text/plain": [
       "['ACTAC']"
      ]
     },
     "execution_count": 318,
     "metadata": {},
     "output_type": "execute_result"
    }
   ],
   "source": [
    "LCS_traceback( \"TGACTAC\",\"ACTGATGC\", LCS_matrix)"
   ]
  },
  {
   "cell_type": "code",
   "execution_count": null,
   "id": "7d5b9ac7",
   "metadata": {},
   "outputs": [],
   "source": []
  }
 ],
 "metadata": {
  "kernelspec": {
   "display_name": "Python 3 (ipykernel)",
   "language": "python",
   "name": "python3"
  },
  "language_info": {
   "codemirror_mode": {
    "name": "ipython",
    "version": 3
   },
   "file_extension": ".py",
   "mimetype": "text/x-python",
   "name": "python",
   "nbconvert_exporter": "python",
   "pygments_lexer": "ipython3",
   "version": "3.8.13"
  }
 },
 "nbformat": 4,
 "nbformat_minor": 5
}
